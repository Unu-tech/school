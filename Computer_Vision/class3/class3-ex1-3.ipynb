{
 "cells": [
  {
   "cell_type": "markdown",
   "metadata": {},
   "source": [
    "## Ex. 1-3) Apply tone mapping\n",
    "Let's apply several tone-mapping curves to an image. For example, try to apply \n",
    "```\n",
    "y = 255/12.5*power(x, 1/2.2)\n",
    "```\n",
    "where x is the original intensity values and y is the output. See how image brightness can be modified.\n",
    "\n",
    "### Type your code below."
   ]
  },
  {
   "cell_type": "code",
   "execution_count": null,
   "metadata": {},
   "outputs": [],
   "source": []
  },
  {
   "cell_type": "markdown",
   "metadata": {},
   "source": [
    "Example code:"
   ]
  },
  {
   "cell_type": "code",
   "execution_count": null,
   "metadata": {},
   "outputs": [],
   "source": [
    "from PIL import Image\n",
    "import numpy as np\n",
    "import matplotlib.pyplot as plt\n",
    "\n",
    "\n",
    "in_path = \"in/car.png\"\n",
    "img2 = Image.open(in_path)\n",
    "imgplot = plt.imshow(img2)"
   ]
  },
  {
   "cell_type": "code",
   "execution_count": null,
   "metadata": {},
   "outputs": [],
   "source": [
    "pix2 = np.asarray(img2)\n",
    "tone_mod = np.float32(pix2)\n",
    "tone_mod = 220/14*tone_mod**(1/2.0)\n",
    "\n",
    "results = Image.fromarray(np.uint8(tone_mod))\n",
    "results.save(\"tone_mod.png\") \n",
    "imgplot = plt.imshow(results)"
   ]
  },
  {
   "cell_type": "code",
   "execution_count": null,
   "metadata": {},
   "outputs": [],
   "source": []
  },
  {
   "cell_type": "code",
   "execution_count": null,
   "metadata": {},
   "outputs": [],
   "source": []
  }
 ],
 "metadata": {
  "kernelspec": {
   "display_name": "Python 3",
   "language": "python",
   "name": "python3"
  },
  "language_info": {
   "codemirror_mode": {
    "name": "ipython",
    "version": 3
   },
   "file_extension": ".py",
   "mimetype": "text/x-python",
   "name": "python",
   "nbconvert_exporter": "python",
   "pygments_lexer": "ipython3",
   "version": "3.6.5"
  }
 },
 "nbformat": 4,
 "nbformat_minor": 4
}
