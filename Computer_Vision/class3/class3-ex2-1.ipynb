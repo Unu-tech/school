{
 "cells": [
  {
   "cell_type": "markdown",
   "metadata": {},
   "source": [
    "## Ex. 2-1)  Padding\n",
    "\n",
    "Sometimes, your algorithm requires fixed-size input, and you might want to pad pixel values to compensate the size difference for your input. There are multiple ways to do this.\n",
    "<img src=\"fig/pad.png\" style=\"width:600px\">\n",
    "(image copyright: https://github.com/pjreddie/uwimg/tree/main/src/hw0)\n",
    "\n",
    "Try to implement adding 20 pixels around the image with clamp padding.\n",
    "\n",
    "### Type your code below."
   ]
  },
  {
   "cell_type": "code",
   "execution_count": null,
   "metadata": {},
   "outputs": [],
   "source": []
  },
  {
   "cell_type": "markdown",
   "metadata": {},
   "source": [
    "Example code:"
   ]
  },
  {
   "cell_type": "code",
   "execution_count": null,
   "metadata": {},
   "outputs": [],
   "source": [
    "from PIL import Image\n",
    "import numpy as np\n",
    "import matplotlib.pyplot as plt\n",
    "\n",
    "in_img_path = \"in/nature.png\"\n",
    "img = Image.open(in_img_path)\n",
    "imgplot = plt.imshow(img)\n",
    "pix = np.asarray(img)"
   ]
  },
  {
   "cell_type": "code",
   "execution_count": null,
   "metadata": {},
   "outputs": [],
   "source": [
    "pw = 20\n",
    "[h,w,c] = pix.shape\n",
    "new_shape = [h+pw*2, w+pw*2, c]\n",
    "\n",
    "padded = np.zeros(new_shape,dtype=np.uint8)\n",
    "padded[pw:pw+pix.shape[0], pw:pw+pix.shape[1]] = pix\n",
    "\n",
    "imgplot = plt.imshow(padded)"
   ]
  },
  {
   "cell_type": "code",
   "execution_count": null,
   "metadata": {},
   "outputs": [],
   "source": [
    "# Left side\n",
    "for i in range(0,pw):\n",
    "    padded[pw:pw+pix.shape[0],i] = pix[0:pix.shape[0],0]\n",
    "    \n",
    "imgplot = plt.imshow(padded)"
   ]
  },
  {
   "cell_type": "code",
   "execution_count": null,
   "metadata": {},
   "outputs": [],
   "source": [
    "# Right side\n",
    "for i in range(pw+pix.shape[1],pw*2+pix.shape[1]):\n",
    "    padded[pw:pw+pix.shape[0],i] = pix[0:pix.shape[0],pix.shape[1]-1]\n",
    "\n",
    "# Top part\n",
    "for i in range(0,pw):\n",
    "    padded[i,0:pw*2+pix.shape[1]] = padded[pw,0:pw*2+pix.shape[1]]\n",
    "    \n",
    "# Bottom part\n",
    "for i in range(pw+pix.shape[0],pw*2+pix.shape[0]):\n",
    "    padded[i,0:pw*2+pix.shape[1]] = padded[pw+pix.shape[0]-1,0:pw*2+pix.shape[1]]\n",
    "    \n",
    "res = Image.fromarray(np.uint8(padded))\n",
    "res.save(\"padded.png\") \n",
    "imgplot = plt.imshow(res)"
   ]
  },
  {
   "cell_type": "code",
   "execution_count": null,
   "metadata": {},
   "outputs": [],
   "source": []
  },
  {
   "cell_type": "code",
   "execution_count": null,
   "metadata": {},
   "outputs": [],
   "source": []
  }
 ],
 "metadata": {
  "kernelspec": {
   "display_name": "Python 3",
   "language": "python",
   "name": "python3"
  },
  "language_info": {
   "codemirror_mode": {
    "name": "ipython",
    "version": 3
   },
   "file_extension": ".py",
   "mimetype": "text/x-python",
   "name": "python",
   "nbconvert_exporter": "python",
   "pygments_lexer": "ipython3",
   "version": "3.7.4"
  }
 },
 "nbformat": 4,
 "nbformat_minor": 2
}
