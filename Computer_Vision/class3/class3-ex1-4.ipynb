{
 "cells": [
  {
   "cell_type": "markdown",
   "metadata": {},
   "source": [
    "## Ex. 1-4)  Histogram equalization\n",
    "Let's apply histogram equalizatio to images. First you need to obtain the cumulative distrubtion function, and then convert the cdf value to pixel intensity.\n",
    "\n",
    "### Type your code here."
   ]
  },
  {
   "cell_type": "code",
   "execution_count": null,
   "metadata": {},
   "outputs": [],
   "source": []
  },
  {
   "cell_type": "markdown",
   "metadata": {},
   "source": [
    "Example code:\n",
    "\n",
    "copyright: https://medium.com/hackernoon/histogram-equalization-in-python-from-scratch-ebb9c8aa3f23"
   ]
  },
  {
   "cell_type": "code",
   "execution_count": null,
   "metadata": {},
   "outputs": [],
   "source": [
    "from PIL import Image\n",
    "import numpy as np\n",
    "import matplotlib.pyplot as plt\n",
    "\n",
    "in_img_path = \"in/dark.jpg\"\n",
    "img = Image.open(in_img_path)\n",
    "\n",
    "# convert our image into a numpy array\n",
    "img = np.asarray(img)\n",
    "\n",
    "# put pixels in a 1D array by flattening out img array\n",
    "flat = img.flatten()\n",
    "\n",
    "# show the histogram\n",
    "plt.hist(flat, bins=50)"
   ]
  },
  {
   "cell_type": "code",
   "execution_count": null,
   "metadata": {},
   "outputs": [],
   "source": [
    "# create our own histogram function\n",
    "def get_histogram(image, bins):\n",
    "    # array with size of bins, set to zeros\n",
    "    histogram = np.zeros(bins)\n",
    "    \n",
    "    # loop through pixels and sum up counts of pixels\n",
    "    for pixel in image:\n",
    "        histogram[pixel] += 1\n",
    "    \n",
    "    # return our final result\n",
    "    return histogram\n",
    "\n",
    "# execute our histogram function\n",
    "hist = get_histogram(flat, 256)"
   ]
  },
  {
   "cell_type": "code",
   "execution_count": null,
   "metadata": {},
   "outputs": [],
   "source": [
    "# create our cumulative sum function\n",
    "def cumsum(a):\n",
    "    a = iter(a)\n",
    "    b = [next(a)]\n",
    "    for i in a:\n",
    "        b.append(b[-1] + i)\n",
    "    return np.array(b)\n",
    "\n",
    "# execute the fn\n",
    "cs = cumsum(hist)\n",
    "\n",
    "# display the result\n",
    "plt.plot(cs)"
   ]
  },
  {
   "cell_type": "code",
   "execution_count": null,
   "metadata": {},
   "outputs": [],
   "source": [
    "# numerator & denomenator\n",
    "nj = (cs - cs.min()) * 255\n",
    "N = cs.max() - cs.min()\n",
    "\n",
    "# re-normalize the cumsum\n",
    "cs = nj / N\n",
    "\n",
    "# cast it back to uint8 since we can't use floating point values in images\n",
    "cs = cs.astype('uint8')\n",
    "\n",
    "plt.plot(cs)"
   ]
  },
  {
   "cell_type": "code",
   "execution_count": null,
   "metadata": {},
   "outputs": [],
   "source": [
    "# get the value from cumulative sum for every index in flat, and set that as img_new\n",
    "img_new = cs[flat]\n",
    "\n",
    "# put array back into original shape since we flattened it\n",
    "img_new = np.reshape(img_new, img.shape)\n",
    "\n",
    "# set up side-by-side image display\n",
    "fig = plt.figure()\n",
    "fig.set_figheight(15)\n",
    "fig.set_figwidth(15)\n",
    "\n",
    "fig.add_subplot(1,2,1)\n",
    "plt.imshow(img, cmap='gray')\n",
    "\n",
    "# display the new image\n",
    "fig.add_subplot(1,2,2)\n",
    "plt.imshow(img_new, cmap='gray')\n",
    "\n",
    "plt.show(block=True)"
   ]
  },
  {
   "cell_type": "code",
   "execution_count": null,
   "metadata": {},
   "outputs": [],
   "source": []
  }
 ],
 "metadata": {
  "kernelspec": {
   "display_name": "Python 3",
   "language": "python",
   "name": "python3"
  },
  "language_info": {
   "codemirror_mode": {
    "name": "ipython",
    "version": 3
   },
   "file_extension": ".py",
   "mimetype": "text/x-python",
   "name": "python",
   "nbconvert_exporter": "python",
   "pygments_lexer": "ipython3",
   "version": "3.6.5"
  }
 },
 "nbformat": 4,
 "nbformat_minor": 4
}
