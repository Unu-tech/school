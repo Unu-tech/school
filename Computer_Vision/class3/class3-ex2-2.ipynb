{
 "cells": [
  {
   "cell_type": "markdown",
   "metadata": {},
   "source": [
    "## Ex. 2-2)  2D Transformations\n",
    "Let's learn geometric transformations by matrix multiplications. Implement a function that simulate the following code \n",
    "```\n",
    "img_rot = img.rotate(45)\n",
    "```\n",
    "\n",
    "| Original  | Rotated | \n",
    "| ---- | ---- | \n",
    "|<img src=\"fig/triangle.png\" style=\"width:200px\"> | <img src=\"fig/rotated.png\" style=\"width:200px\"> |\n",
    "\n",
    "Try to remove jaggy edges if possible.\n",
    "\n",
    "### Type your code below.\n"
   ]
  },
  {
   "cell_type": "code",
   "execution_count": null,
   "metadata": {},
   "outputs": [],
   "source": []
  },
  {
   "cell_type": "markdown",
   "metadata": {},
   "source": [
    "Example code:"
   ]
  },
  {
   "cell_type": "code",
   "execution_count": null,
   "metadata": {},
   "outputs": [],
   "source": [
    "from PIL import Image\n",
    "import numpy as np\n",
    "import math\n",
    "import matplotlib.pyplot as plt\n",
    "\n",
    "in_img_path = \"in/triangle.png\"\n",
    "img = Image.open(in_img_path)\n",
    "img_rot = img.rotate(45)\n",
    "\n",
    "img_rot"
   ]
  },
  {
   "cell_type": "code",
   "execution_count": null,
   "metadata": {},
   "outputs": [],
   "source": [
    "pix = np.asarray(img)\n",
    "rotated = np.copy(pix)\n",
    "rotated.fill(0)\n",
    "\n",
    "tx = pix.shape[0]/2 # image center of the target image\n",
    "ty = pix.shape[1]/2\n",
    "\n",
    "cx = pix.shape[0]/2 # image center of the original image\n",
    "cy = pix.shape[1]/2\n",
    "\n",
    "angle = 45 # rorating angle\n",
    "angle = -math.radians(angle)\n",
    "r = [[round(math.cos(angle), 15), round(-math.sin(angle), 15)],\n",
    "     [round(math.sin(angle), 15), round(math.cos(angle), 15)]]\n",
    "\n",
    "for x in range(0,pix.shape[0]):\n",
    "    for y in range(0,pix.shape[1]):\n",
    "        v = [(x - tx),(y-ty)]\n",
    "        p = np.matmul(r, v)\n",
    "        x_ = p[0]+ cx\n",
    "        y_ = p[1]+ cy\n",
    "        if x_ > 0 and y_ > 0 and x_ < pix.shape[0] and y_ < pix.shape[1]: # if it is whithin the origina image size\n",
    "            rotated[x][y] = pix[int(x_)][int(y_)] # here you might want to replace it to bilinear or better interpolation\n",
    "       \n",
    "res = Image.fromarray(np.uint8(rotated))\n",
    "res.save(\"rotated.png\")\n",
    "plt.imshow(res)"
   ]
  },
  {
   "cell_type": "code",
   "execution_count": null,
   "metadata": {},
   "outputs": [],
   "source": []
  }
 ],
 "metadata": {
  "kernelspec": {
   "display_name": "Python 3",
   "language": "python",
   "name": "python3"
  },
  "language_info": {
   "codemirror_mode": {
    "name": "ipython",
    "version": 3
   },
   "file_extension": ".py",
   "mimetype": "text/x-python",
   "name": "python",
   "nbconvert_exporter": "python",
   "pygments_lexer": "ipython3",
   "version": "3.7.4"
  }
 },
 "nbformat": 4,
 "nbformat_minor": 2
}
