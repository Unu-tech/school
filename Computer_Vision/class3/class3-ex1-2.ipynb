{
 "cells": [
  {
   "cell_type": "markdown",
   "metadata": {},
   "source": [
    "## Ex. 1-2) Modify colors using HSV (hue, saturation, and value) color space\n",
    "Sometimes it is easier to convert pixel valeus from RGB to HSV and modify them. Write a code that increaess saturation values of an input image to 1.2 times. See https://www.rapidtables.com/convert/color/index.html for converting equations.\n",
    "<img src=\"fig/rgb2hsv.png\" style=\"width:400px\">\n",
    "\n",
    "### Type your code below."
   ]
  },
  {
   "cell_type": "code",
   "execution_count": 1,
   "metadata": {},
   "outputs": [
    {
     "name": "stdout",
     "output_type": "stream",
     "text": [
      "(504, 378, 3)\n",
      "uint8\n"
     ]
    }
   ],
   "source": [
    "from PIL import Image\n",
    "import numpy as np\n",
    "import matplotlib.pyplot as plt\n",
    "import os\n",
    "\n",
    "img_path = \"./in/kid.png\"\n",
    "\n",
    "img = Image.open(img_path)\n",
    "\n",
    "img.show()\n",
    "img_arr = np.asarray(img)\n",
    "print(img_arr.shape)\n",
    "print(img_arr.dtype)"
   ]
  },
  {
   "cell_type": "code",
   "execution_count": null,
   "metadata": {},
   "outputs": [],
   "source": [
    "# In Python, dictionary can hash functions! We will use that.\n",
    "\n",
    "def calc_r(cmax, g, b, diff):\n",
    "    h = (60 * ((g - b) / diff) + 360) % 360\n",
    "    s = (diff/cmax)*100\n",
    "    v = cmax*100\n",
    "    return h, s, v\n",
    "    \n",
    "def calc_g(r, cmax, b, diff):\n",
    "    h = (60 * ((b – r) / diff) + 120) % 360\n",
    "    s = (diff/cmax)*100\n",
    "    v = cmax*100\n",
    "    return h, s, v\n",
    "    \n",
    "def calc_b(r, g, cmax, diff):\n",
    "    h = (60 * ((r – g) / diff) + 240) % 360\n",
    "    s = (diff/cmax)*100\n",
    "    v = cmax*100\n",
    "    return h, s, v\n",
    "\n",
    "idx_to_calc = {0:calc_r, 1:calc_g, 2:calc_b}\n",
    "\n",
    "def cmax_to_hue\n"
   ]
  },
  {
   "cell_type": "code",
   "execution_count": null,
   "metadata": {},
   "outputs": [],
   "source": [
    "# In Python, dictionary can hash functions! We will use that.\n",
    "\n",
    "cmax_to_hue_calc = {\"r\":, \"g\", \"b\"}"
   ]
  },
  {
   "cell_type": "markdown",
   "metadata": {},
   "source": [
    "Example code:"
   ]
  },
  {
   "cell_type": "code",
   "execution_count": null,
   "metadata": {},
   "outputs": [],
   "source": [
    "from PIL import Image\n",
    "import numpy as np\n",
    "import matplotlib.pyplot as plt\n",
    "\n",
    "in_img_path = \"in/kid.png\"\n",
    "img = Image.open(in_img_path)\n",
    "pix = np.asarray(img)"
   ]
  },
  {
   "cell_type": "code",
   "execution_count": null,
   "metadata": {},
   "outputs": [],
   "source": [
    "values = np.float32(pix)\n",
    "values = values/255.0\n",
    "hsv = np.copy(values)\n",
    "result = np.copy(values)\n",
    "\n",
    "max = np.amax(values,2)\n",
    "min = np.amin(values,2)\n",
    "delta = max - min\n",
    "\n",
    "h = pix.shape[0]\n",
    "w = pix.shape[1]\n",
    "\n",
    "# Convert to HSV and scale the saturation by 1.2\n",
    "for i in range(0,h):\n",
    "    for j in range (0, w):\n",
    "        if delta[i,j] < 1e-4:\n",
    "            hue = 0\n",
    "        else:\n",
    "            # if max = red\n",
    "            if abs(max[i,j] - values[i,j,0]) < 1e-5:\n",
    "                hue = 60 * (((values[i,j,1] - values[i,j,2])/delta[i,j])%6) \n",
    "            else:\n",
    "                # if max = green\n",
    "                if abs(max[i,j] - values[i,j,1]) < 1e-5:\n",
    "                    hue = 60*((values[i,j,2] - values[i,j,0])/delta[i,j] +2) \n",
    "                else:\n",
    "                    # max = blue\n",
    "                    hue = 60*((values[i,j,0] - values[i,j,1])/delta[i,j] +4)  \n",
    "        if max[i,j] < 1e-5:\n",
    "            saturation = 0\n",
    "        else:\n",
    "            saturation = delta[i,j]/max[i,j]               \n",
    "        \n",
    "        hsv[i,j,0] = hue\n",
    "        hsv[i,j,2] = max[i,j]\n",
    "        if max[i,j] > 0.1:\n",
    "            hsv[i,j,1] = saturation*1.2 # multiply by a factor of 1.2 \n",
    "        else:\n",
    "            hsv[i,j,1] = saturation\n",
    "        # you need to clip the values, othewise you will see unwanted noise\n",
    "        if saturation * 1.2 > 1.0:\n",
    "            hsv[i,j,1] = 1.0\n",
    "\n",
    "# Convert back to RGB\n",
    "for i in range(0,h):\n",
    "    for j in range (0, w):\n",
    "        hue = hsv[i,j,0]\n",
    "        saturation = hsv[i,j,1]\n",
    "        value = hsv[i,j,2]\n",
    "        c = value * saturation\n",
    "        x = c * (1- abs( (hue/60)%2 -1))\n",
    "        m = value - c\n",
    "        if 0 <= hue and hue < 60:\n",
    "            result[i,j,0] = c\n",
    "            result[i,j,1] = x\n",
    "            result[i,j,2] = 0\n",
    "        else:\n",
    "            if 60 <= hue and hue < 120:\n",
    "                result[i,j,0] = x\n",
    "                result[i,j,1] = c\n",
    "                result[i,j,2] = 0\n",
    "            else:\n",
    "                if 120 <= hue and hue < 180:\n",
    "                    result[i,j,0] = 0\n",
    "                    result[i,j,1] = c\n",
    "                    result[i,j,2] = x\n",
    "                else:\n",
    "                    if 180 <= hue and hue <240:\n",
    "                        result[i,j,0] = 0\n",
    "                        result[i,j,1] = x\n",
    "                        result[i,j,2] = c\n",
    "                    else:\n",
    "                        if 240 <= hue and hue <300:\n",
    "                            result[i,j,0] = x\n",
    "                            result[i,j,1] = 0\n",
    "                            result[i,j,2] = c\n",
    "                        else:\n",
    "                            if 300 <= hue and hue <360:\n",
    "                                result[i,j,0] = c\n",
    "                                result[i,j,1] = 0\n",
    "                                result[i,j,2] = x\n",
    "        for k in range(0,3):\n",
    "            result[i,j,k] = (result[i,j,k]+m)*255\n",
    "            \n",
    "# you probably need clipping\n",
    "np.clip(result, 0, 255)\n",
    "\n",
    "# save and also show results\n",
    "results = Image.fromarray(np.uint8(result))\n",
    "results.save(\"sat_mod.png\") \n",
    "\n",
    "# set up side-by-side image display\n",
    "fig = plt.figure()\n",
    "fig.set_figheight(15)\n",
    "fig.set_figwidth(15)\n",
    "\n",
    "fig.add_subplot(1,2,1)\n",
    "plt.imshow(img)\n",
    "\n",
    "# display the new image\n",
    "fig.add_subplot(1,2,2)\n",
    "plt.imshow(results)\n",
    "\n",
    "plt.show(block=True)"
   ]
  },
  {
   "cell_type": "code",
   "execution_count": null,
   "metadata": {},
   "outputs": [],
   "source": []
  },
  {
   "cell_type": "code",
   "execution_count": null,
   "metadata": {},
   "outputs": [],
   "source": []
  }
 ],
 "metadata": {
  "kernelspec": {
   "display_name": "Python 3 (ipykernel)",
   "language": "python",
   "name": "python3"
  },
  "language_info": {
   "codemirror_mode": {
    "name": "ipython",
    "version": 3
   },
   "file_extension": ".py",
   "mimetype": "text/x-python",
   "name": "python",
   "nbconvert_exporter": "python",
   "pygments_lexer": "ipython3",
   "version": "3.8.8"
  }
 },
 "nbformat": 4,
 "nbformat_minor": 4
}
