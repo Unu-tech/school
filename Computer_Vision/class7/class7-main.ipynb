{
 "cells": [
  {
   "cell_type": "markdown",
   "metadata": {},
   "source": [
    "# Exercise - Class 7 - Image Features\n",
    "\n",
    "Lecturer: Rei Kawakami@Tokyo tech\n",
    "\n",
    "----"
   ]
  },
  {
   "cell_type": "markdown",
   "metadata": {},
   "source": [
    "\n",
    "## Exercise 1 - Let's find corners\n",
    "\n",
    "\n",
    "* [Ex. 1](class5-ex1.ipynb) Harris corner detection"
   ]
  },
  {
   "cell_type": "markdown",
   "metadata": {},
   "source": [
    "\n",
    "## Exercise 2 - Let's describe features and find correspondences\n",
    "\n",
    "* [Ex. 2](class5-ex2.ipynb) SIFT feature descriptor"
   ]
  }
 ],
 "metadata": {
  "kernelspec": {
   "display_name": "Python 3",
   "language": "python",
   "name": "python3"
  },
  "language_info": {
   "codemirror_mode": {
    "name": "ipython",
    "version": 3
   },
   "file_extension": ".py",
   "mimetype": "text/x-python",
   "name": "python",
   "nbconvert_exporter": "python",
   "pygments_lexer": "ipython3",
   "version": "3.7.4"
  }
 },
 "nbformat": 4,
 "nbformat_minor": 5
}
