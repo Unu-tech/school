{
 "cells": [
  {
   "cell_type": "markdown",
   "metadata": {},
   "source": [
    "\n",
    "## Exercise 1 - Let's find corners\n",
    "\n",
    "First let's implement harris corner deteciton. Please write a program that finds a corner of the following checker board image.\n",
    "<img src=\"test/checkerboard.png\"  style=\"width:200px\"> \n",
    "The image is located at  <b>test/checkerboard.png</b> which is originally from https://github.com/hughesj919/HarrisCorner<br>\n",
    "Type your code below."
   ]
  },
  {
   "cell_type": "code",
   "execution_count": null,
   "metadata": {},
   "outputs": [],
   "source": []
  },
  {
   "cell_type": "code",
   "execution_count": null,
   "metadata": {},
   "outputs": [],
   "source": []
  },
  {
   "cell_type": "code",
   "execution_count": null,
   "metadata": {},
   "outputs": [],
   "source": []
  },
  {
   "cell_type": "markdown",
   "metadata": {},
   "source": [
    "Below is an example."
   ]
  },
  {
   "cell_type": "code",
   "execution_count": 9,
   "metadata": {},
   "outputs": [],
   "source": [
    "from PIL import Image\n",
    "import matplotlib.pyplot as plt\n",
    "import numpy as np\n",
    "import argparse\n",
    "import operator\n",
    "\n",
    "def findHarrisCorners(img, window_size, k, thresh):\n",
    "    \"\"\"\n",
    "    Finds and returns list of corners and new image with corners drawn\n",
    "    :param img: The original image\n",
    "    :param window_size: The size (side length) of the sliding window\n",
    "    :param k: Harris corner constant. Usually 0.04 - 0.06\n",
    "    :param thresh: The threshold above which a corner is counted\n",
    "    :return:  \n",
    "    \"\"\"\n",
    "    \n",
    "    #Find x and y derivatives\n",
    "    dy, dx = np.gradient(img)\n",
    "    Ixx = dx**2\n",
    "    Ixy = dy*dx\n",
    "    Iyy = dy**2\n",
    "    height = img.shape[0]\n",
    "    width = img.shape[1]\n",
    "\n",
    "    cornerList = []\n",
    "    newImg = Image.fromarray(np.uint8(img))  # prepare a color image for visualization\n",
    "    color_img = Image.new(\"RGBA\", newImg.size)\n",
    "    color_img.paste(newImg)\n",
    "    \n",
    "    offset = int(window_size/2) # offset of the windowsize\n",
    "    pixels = color_img.load() # a pointer to the pixel values\n",
    "\n",
    "    #Loop through image and find our corners\n",
    "    print(\"Finding Corners...\")\n",
    "    for y in range(offset, height-offset):\n",
    "        for x in range(offset, width-offset):\n",
    "            #Calculate sum of squares\n",
    "            windowIxx = Ixx[y-offset:y+offset+1, x-offset:x+offset+1]\n",
    "            windowIxy = Ixy[y-offset:y+offset+1, x-offset:x+offset+1]\n",
    "            windowIyy = Iyy[y-offset:y+offset+1, x-offset:x+offset+1]\n",
    "            Sxx = windowIxx.sum()\n",
    "            Sxy = windowIxy.sum()\n",
    "            Syy = windowIyy.sum()\n",
    "\n",
    "            #Find determinant and trace, use to get corner response\n",
    "            det = (Sxx * Syy) - (Sxy**2)\n",
    "            trace = Sxx + Syy\n",
    "            r = det - k*(trace**2)\n",
    "            #if y%70 == 0 and x%50 == 0:\n",
    "            #    print(r)\n",
    "\n",
    "            #If corner response is over threshold, color the point and add to corner list\n",
    "            if r > thresh:\n",
    "                #print(x, y, r)\n",
    "                cornerList.append([x, y, r])\n",
    "                pixels[x,y] = (0,0,255)\n",
    "\n",
    "    return color_img, cornerList\n",
    "\n",
    "\n",
    "def findCorners(window_size, k, thresh, in_img_path, out_img_path):\n",
    "        \n",
    "    print(\"window size: \" + str(window_size))\n",
    "    print(\"number of corners: \" + str(k))\n",
    "    print(\"corner threshold: \" + str(thresh))\n",
    "    print(\"image file: \" + in_img_path)        \n",
    "\n",
    "    img = Image.open(in_img_path)\n",
    "    \n",
    "    if img is not None:\n",
    "        gray= img.convert('L')\n",
    "        pix = np.asarray(gray)\n",
    "        print( \"image size: \" +str(pix.shape))    \n",
    "       \n",
    "        finalImg, cornerList = findHarrisCorners(pix, int(window_size), float(k), int(thresh))\n",
    "        finalImg.save(out_img_path)\n",
    "\n",
    "        # Write top 100 corners to file\n",
    "        listsize = len(cornerList)\n",
    "        cornerList.sort(key=operator.itemgetter(2))\n",
    "        outfile = open('corners.txt', 'w')\n",
    "        if listsize > 100:\n",
    "            listsize = 100\n",
    "        for i in range(listsize):\n",
    "            outfile.write(str(cornerList[i][0]) + ' ' + str(cornerList[i][1]) + ' ' + str(cornerList[i][2]) + '\\n')\n",
    "        outfile.close()\n",
    "    else:\n",
    "        print(\"Cannot open\"+in_img_path)\n",
    "        \n",
    "    print(\"done!\")\n",
    "\n"
   ]
  },
  {
   "cell_type": "markdown",
   "metadata": {},
   "source": [
    "Once your code is ready, let's run it."
   ]
  },
  {
   "cell_type": "code",
   "execution_count": 10,
   "metadata": {},
   "outputs": [
    {
     "name": "stdout",
     "output_type": "stream",
     "text": [
      "window size: 5\n",
      "number of corners: 0.06\n",
      "corner threshold: 10000\n",
      "image file: test/checkerboard.png\n",
      "image size: (384, 384)\n",
      "Finding Corners...\n",
      "done!\n"
     ]
    }
   ],
   "source": [
    "win_size = 5 # Window size\n",
    "k = 0.06 # k value for finding corners\n",
    "thresh = 10000 \n",
    "in_img_path = 'test/checkerboard.png'\n",
    "out_img_path = 'harris_checker.png'\n",
    "\n",
    "findCorners(win_size, k, thresh, in_img_path, out_img_path)"
   ]
  },
  {
   "cell_type": "markdown",
   "metadata": {},
   "source": [
    "You will probably see an image like the one below.\n",
    "<img src=\"test/checkerboard_harris.png\"  style=\"width:300px\"> \n",
    "But if you try with a more natural image, you would probably be dissappointed. The original images are from http://matthewalunbrown.com/autostitch/autostitch.html\n",
    "<img src=\"test/mb/100-0023_img.jpg\"  style=\"width:200px\"> "
   ]
  },
  {
   "cell_type": "code",
   "execution_count": 14,
   "metadata": {},
   "outputs": [
    {
     "name": "stdout",
     "output_type": "stream",
     "text": [
      "window size: 5\n",
      "number of corners: 0.06\n",
      "corner threshold: 25000000000\n",
      "image file: test/mb/100-0023_img.jpg\n",
      "image size: (758, 568)\n",
      "Finding Corners...\n",
      "done!\n"
     ]
    }
   ],
   "source": [
    "#in_img_path = 'test/pj/Rainier1.png'\n",
    "in_img_path = 'test/mb/100-0023_img.jpg'\n",
    "out_img_path = 'harris_mb.png'\n",
    "findCorners(win_size, k, thresh, in_img_path, out_img_path)"
   ]
  },
  {
   "cell_type": "markdown",
   "metadata": {},
   "source": [
    "You would see too many detected corners.\n",
    "<img src=\"test/mb_harris.png\"  style=\"width:200px\"> \n",
    "Increasing the threshold makes better results, "
   ]
  },
  {
   "cell_type": "code",
   "execution_count": 13,
   "metadata": {},
   "outputs": [
    {
     "name": "stdout",
     "output_type": "stream",
     "text": [
      "window size: 5\n",
      "number of corners: 0.06\n",
      "corner threshold: 25000000000\n",
      "image file: test/pj/Rainier1.png\n",
      "image size: (388, 517)\n",
      "Finding Corners...\n",
      "done!\n"
     ]
    }
   ],
   "source": [
    "win_size = 5 # Window size\n",
    "thresh = 25000000000\n",
    "findCorners(win_size, k, thresh, in_img_path, out_img_path)"
   ]
  },
  {
   "cell_type": "markdown",
   "metadata": {},
   "source": [
    "but they still seem impractical.\n",
    "<img src=\"test/mb_harris_2.png\"  style=\"width:200px\"> \n",
    "Can you think of improving the detection results? You might want to apply gaussian smoothing (it might be interesting to see that two 1-d convolutions is faster than one 2d convolution). It might be also good to apply non-maximum supression. But you will see a much better key-point locater in the next excercise. "
   ]
  },
  {
   "cell_type": "code",
   "execution_count": null,
   "metadata": {},
   "outputs": [],
   "source": []
  }
 ],
 "metadata": {
  "kernelspec": {
   "display_name": "Python 3",
   "language": "python",
   "name": "python3"
  },
  "language_info": {
   "codemirror_mode": {
    "name": "ipython",
    "version": 3
   },
   "file_extension": ".py",
   "mimetype": "text/x-python",
   "name": "python",
   "nbconvert_exporter": "python",
   "pygments_lexer": "ipython3",
   "version": "3.7.4"
  }
 },
 "nbformat": 4,
 "nbformat_minor": 2
}
