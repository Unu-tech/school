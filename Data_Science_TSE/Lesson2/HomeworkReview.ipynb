{
 "cells": [
  {
   "cell_type": "code",
   "execution_count": 1,
   "id": "ff97c8ce-2769-4881-aea6-91b731e5ba06",
   "metadata": {},
   "outputs": [],
   "source": [
    "import numpy as np\n",
    "import pandas as pd\n",
    "from tqdm import tqdm\n",
    "import matplotlib.pyplot as plt\n",
    "import sklearn.gaussian_process as gp\n",
    "from sklearn.metrics import mean_squared_error\n",
    "np.random.seed(1)"
   ]
  },
  {
   "cell_type": "code",
   "execution_count": 2,
   "id": "b636b7d6-9062-4040-8cd9-0c29ab757c5b",
   "metadata": {},
   "outputs": [],
   "source": [
    "def f(x):\n",
    "    return x*np.sin(x)"
   ]
  },
  {
   "cell_type": "code",
   "execution_count": 3,
   "id": "2b2c4efa-6a25-4ab9-a293-285715c98530",
   "metadata": {},
   "outputs": [],
   "source": [
    "x_train = np.atleast_2d([1,3,5,6,7,8]).T\n",
    "\n",
    "y_train = f(x_train).ravel()\n",
    "\n",
    "x_test = np.atleast_2d(np.linspace(0,10,1000)).T\n",
    "\n",
    "y_test = f(x_test).ravel()"
   ]
  },
  {
   "cell_type": "code",
   "execution_count": 4,
   "id": "029e379f-85b0-46e3-b68a-181e20ab3a09",
   "metadata": {},
   "outputs": [
    {
     "name": "stdout",
     "output_type": "stream",
     "text": [
      "(6, 1) (6,)\n"
     ]
    }
   ],
   "source": [
    "print(x_train.shape, y_train.shape)\n",
    "kernel = gp.kernels.ConstantKernel(1.0, (1e-3, 1e3)) * gp.kernels.RBF(10.0, (1e-2, 1e2))\n",
    "\n",
    "model = gp.GaussianProcessRegressor(kernel=kernel, n_restarts_optimizer=9)\n",
    "\n",
    "model.fit(x_train, y_train)\n",
    "\n",
    "y_pred, sigma = model.predict(x_test, return_std=1)"
   ]
  },
  {
   "cell_type": "code",
   "execution_count": 5,
   "id": "bfdc1bc3-dc93-4dd8-b59c-019dd5711b8c",
   "metadata": {},
   "outputs": [
    {
     "data": {
      "image/png": "[encoded data removed]",
      "text/plain": [
       "<Figure size 432x288 with 1 Axes>"
      ]
     },
     "metadata": {
      "needs_background": "light"
     },
     "output_type": "display_data"
    }
   ],
   "source": [
    "plt.figure()\n",
    "plt.plot(x_test, y_test, 'g--', label='True values')\n",
    "plt.plot(x_train, y_train, 'ro', label=\"Observations\")\n",
    "plt.plot(x_test, y_pred, 'b-', label='Predictions')\n",
    "plt.fill(np.concatenate([x_test, x_test[::-1]]),\n",
    "         np.concatenate([y_pred - 1.9600 * sigma,\n",
    "                         (y_pred + 1.9600 * sigma)[::-1]]),\n",
    "         alpha=.5, fc='blue', ec='None', label='95% confidence interval')\n",
    "plt.legend()\n",
    "plt.show()"
   ]
  },
  {
   "cell_type": "code",
   "execution_count": 6,
   "id": "158f0ec9-7efe-40bf-9c48-c9ca7f04335c",
   "metadata": {},
   "outputs": [
    {
     "data": {
      "text/html": [
       "<div>\n",
       "<style scoped>\n",
       "    .dataframe tbody tr th:only-of-type {\n",
       "        vertical-align: middle;\n",
       "    }\n",
       "\n",
       "    .dataframe tbody tr th {\n",
       "        vertical-align: top;\n",
       "    }\n",
       "\n",
       "    .dataframe thead th {\n",
       "        text-align: right;\n",
       "    }\n",
       "</style>\n",
       "<table border=\"1\" class=\"dataframe\">\n",
       "  <thead>\n",
       "    <tr style=\"text-align: right;\">\n",
       "      <th></th>\n",
       "      <th>x</th>\n",
       "      <th>y</th>\n",
       "    </tr>\n",
       "  </thead>\n",
       "  <tbody>\n",
       "    <tr>\n",
       "      <th>0</th>\n",
       "      <td>7</td>\n",
       "      <td>170.857523</td>\n",
       "    </tr>\n",
       "    <tr>\n",
       "      <th>1</th>\n",
       "      <td>8</td>\n",
       "      <td>170.487173</td>\n",
       "    </tr>\n",
       "    <tr>\n",
       "      <th>2</th>\n",
       "      <td>10</td>\n",
       "      <td>170.336920</td>\n",
       "    </tr>\n",
       "    <tr>\n",
       "      <th>3</th>\n",
       "      <td>20</td>\n",
       "      <td>168.406835</td>\n",
       "    </tr>\n",
       "    <tr>\n",
       "      <th>4</th>\n",
       "      <td>40</td>\n",
       "      <td>165.519875</td>\n",
       "    </tr>\n",
       "  </tbody>\n",
       "</table>\n",
       "</div>"
      ],
      "text/plain": [
       "    x           y\n",
       "0   7  170.857523\n",
       "1   8  170.487173\n",
       "2  10  170.336920\n",
       "3  20  168.406835\n",
       "4  40  165.519875"
      ]
     },
     "execution_count": 6,
     "metadata": {},
     "output_type": "execute_result"
    }
   ],
   "source": [
    "df = pd.read_csv('testing.csv', sep=r'\\s*,\\s*', header=0, engine='python')\n",
    "df.head()"
   ]
  },
  {
   "cell_type": "code",
   "execution_count": 19,
   "id": "bf4fe978-4b67-4be9-aff1-3bb17c970a55",
   "metadata": {},
   "outputs": [
    {
     "name": "stdout",
     "output_type": "stream",
     "text": [
      "0     7\n",
      "1     8\n",
      "2    10\n",
      "3    20\n",
      "4    40\n",
      "Name: x, dtype: int64\n",
      "0    170.857523\n",
      "1    170.487173\n",
      "2    170.336920\n",
      "3    168.406835\n",
      "4    165.519875\n",
      "Name: y, dtype: float64\n"
     ]
    }
   ],
   "source": [
    "X = df['x']\n",
    "print(X)\n",
    "Y = df['y']\n",
    "print(Y)"
   ]
  },
  {
   "cell_type": "code",
   "execution_count": 20,
   "id": "72d2d604-ab3f-44a1-b1b4-627a559e1970",
   "metadata": {},
   "outputs": [
    {
     "data": {
      "image/png": "[encoded data removed]",
      "text/plain": [
       "<Figure size 432x288 with 1 Axes>"
      ]
     },
     "metadata": {
      "needs_background": "light"
     },
     "output_type": "display_data"
    }
   ],
   "source": [
    "plt.title('test',fontsize=24)\n",
    "plt.xlabel(\"Neutron Energy (MEv)\", fontsize=14)\n",
    "plt.ylabel(\"TKE (MEv)\", fontsize=14)\n",
    "plt.scatter(X, Y, label='test')\n",
    "plt.show()"
   ]
  },
  {
   "cell_type": "code",
   "execution_count": 21,
   "id": "6d08830c-9c21-45a4-8b4d-ff46e5437f00",
   "metadata": {},
   "outputs": [
    {
     "data": {
      "image/png": "[encoded data removed]",
      "text/plain": [
       "<Figure size 432x288 with 1 Axes>"
      ]
     },
     "metadata": {
      "needs_background": "light"
     },
     "output_type": "display_data"
    }
   ],
   "source": [
    "plt.title('test',fontsize=24)\n",
    "plt.xlabel(\"Neutron Energy (MEv)\", fontsize=14)\n",
    "plt.ylabel(\"TKE (MEv)\", fontsize=14)\n",
    "plt.plot(X, Y, label='test')\n",
    "plt.show()"
   ]
  },
  {
   "cell_type": "code",
   "execution_count": 22,
   "id": "079c7c47-5ea5-4064-b758-8697159ae2c5",
   "metadata": {},
   "outputs": [
    {
     "data": {
      "text/plain": [
       "array([[ 7],\n",
       "       [ 8],\n",
       "       [10],\n",
       "       [20],\n",
       "       [40]])"
      ]
     },
     "execution_count": 22,
     "metadata": {},
     "output_type": "execute_result"
    }
   ],
   "source": [
    "X = np.atleast_2d(X.to_numpy()).T\n",
    "X"
   ]
  },
  {
   "cell_type": "code",
   "execution_count": 23,
   "id": "00d835de-fc9a-4d37-a85f-009b34cc457c",
   "metadata": {},
   "outputs": [],
   "source": [
    "x = np.atleast_2d(np.linspace(5,50,1000)).T"
   ]
  },
  {
   "cell_type": "code",
   "execution_count": 24,
   "id": "e195f161-4ced-46e9-850e-9053db858a1f",
   "metadata": {},
   "outputs": [],
   "source": [
    "kernel = gp.kernels.ConstantKernel(1.0, (1e-3, 1e3)) * gp.kernels.RBF(10.0, (1e-2, 1e2))\n",
    "model_new = gp.GaussianProcessRegressor(kernel=kernel, n_restarts_optimizer=9)"
   ]
  },
  {
   "cell_type": "code",
   "execution_count": 25,
   "id": "e8484ee5-d083-4966-908c-84f79ba5d4d7",
   "metadata": {},
   "outputs": [
    {
     "name": "stderr",
     "output_type": "stream",
     "text": [
      "/Users/unubolderdenebeleg/school/lib/python3.8/site-packages/sklearn/gaussian_process/kernels.py:430: ConvergenceWarning: The optimal value found for dimension 0 of parameter k1__constant_value is close to the specified upper bound 1000.0. Increasing the bound and calling fit again may find a better value.\n",
      "  warnings.warn(\n"
     ]
    },
    {
     "data": {
      "text/plain": [
       "GaussianProcessRegressor(kernel=1**2 * RBF(length_scale=10),\n",
       "                         n_restarts_optimizer=9)"
      ]
     },
     "execution_count": 25,
     "metadata": {},
     "output_type": "execute_result"
    }
   ],
   "source": [
    "model_new.fit(X,Y)"
   ]
  },
  {
   "cell_type": "code",
   "execution_count": 26,
   "id": "26581892-83a4-4a1d-9faa-658fe0dda725",
   "metadata": {},
   "outputs": [],
   "source": [
    "y_pred, sigma = model_new.predict(x, return_std=1)"
   ]
  },
  {
   "cell_type": "code",
   "execution_count": 27,
   "id": "8861062e-297e-4919-a05d-b438673b42ad",
   "metadata": {},
   "outputs": [
    {
     "data": {
      "image/png": "[encoded data removed]",
      "text/plain": [
       "<Figure size 432x288 with 1 Axes>"
      ]
     },
     "metadata": {
      "needs_background": "light"
     },
     "output_type": "display_data"
    }
   ],
   "source": [
    "plt.figure()\n",
    "plt.plot(X,Y,'r.',markersize=10,label='Observations')\n",
    "plt.plot(x,y_pred,'b-',label='Prediction')\n",
    "plt.fill(np.concatenate([x, x[::-1]]),\n",
    "         np.concatenate([y_pred - 1.9600 * sigma,\n",
    "                         (y_pred + 1.9600 * sigma)[::-1]]),\n",
    "         alpha=.5, fc='blue', ec='None', label='95% confidence interval')\n",
    "plt.legend()\n",
    "plt.xlabel('$x$')\n",
    "plt.ylabel('$f(x)$')\n",
    "plt.show()"
   ]
  },
  {
   "cell_type": "code",
   "execution_count": 28,
   "id": "eee06d88-6995-496d-8e0d-82d80bd4c7ad",
   "metadata": {},
   "outputs": [
    {
     "name": "stdout",
     "output_type": "stream",
     "text": [
      "[[ 7]\n",
      " [ 8]\n",
      " [10]\n",
      " [20]\n",
      " [40]] 0    170.857523\n",
      "1    170.487173\n",
      "2    170.336920\n",
      "3    168.406835\n",
      "4    165.519875\n",
      "Name: y, dtype: float64\n"
     ]
    }
   ],
   "source": [
    "print(X, Y)"
   ]
  },
  {
   "cell_type": "code",
   "execution_count": null,
   "id": "33ba176b-82b7-4eea-b3ad-e6f9314877c3",
   "metadata": {},
   "outputs": [],
   "source": []
  }
 ],
 "metadata": {
  "kernelspec": {
   "display_name": "Python 3 (ipykernel)",
   "language": "python",
   "name": "python3"
  },
  "language_info": {
   "codemirror_mode": {
    "name": "ipython",
    "version": 3
   },
   "file_extension": ".py",
   "mimetype": "text/x-python",
   "name": "python",
   "nbconvert_exporter": "python",
   "pygments_lexer": "ipython3",
   "version": "3.8.12"
  }
 },
 "nbformat": 4,
 "nbformat_minor": 5
}
